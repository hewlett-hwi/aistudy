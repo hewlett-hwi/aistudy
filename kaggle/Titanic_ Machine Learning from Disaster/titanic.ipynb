{
  "nbformat": 4,
  "nbformat_minor": 0,
  "metadata": {
    "colab": {
      "name": "titanic.ipynb",
      "version": "0.3.2",
      "provenance": [],
      "collapsed_sections": []
    },
    "kernelspec": {
      "name": "python3",
      "display_name": "Python 3"
    },
    "accelerator": "GPU"
  },
  "cells": [
    {
      "cell_type": "markdown",
      "metadata": {
        "id": "view-in-github",
        "colab_type": "text"
      },
      "source": [
        "[View in Colaboratory](https://colab.research.google.com/github/hewlett-hwi/aistudy/blob/master/kaggle/Titanic_%20Machine%20Learning%20from%20Disaster/titanic.ipynb)"
      ]
    },
    {
      "metadata": {
        "id": "zUBuExCgoftU",
        "colab_type": "code",
        "colab": {}
      },
      "cell_type": "code",
      "source": [
        "import tensorflow"
      ],
      "execution_count": 0,
      "outputs": []
    }
  ]
}